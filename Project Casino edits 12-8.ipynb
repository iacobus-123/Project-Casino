{
 "cells": [
  {
   "cell_type": "code",
   "execution_count": 1,
   "id": "a8406f80-1418-4a77-a59f-c5170548bee2",
   "metadata": {
    "tags": []
   },
   "outputs": [
    {
     "name": "stdout",
     "output_type": "stream",
     "text": [
      "Requirement already satisfied: pydealer in /Users/jacobdietch/anaconda3/lib/python3.11/site-packages (1.4.0)\n",
      "Note: you may need to restart the kernel to use updated packages.\n"
     ]
    }
   ],
   "source": [
    "%pip install pydealer"
   ]
  },
  {
   "cell_type": "code",
   "execution_count": 2,
   "id": "ff0146e5-03aa-426b-95d8-fe8a5fd425f6",
   "metadata": {
    "tags": []
   },
   "outputs": [
    {
     "name": "stdout",
     "output_type": "stream",
     "text": [
      "10 of Spades\n",
      "3 of Hearts\n"
     ]
    }
   ],
   "source": [
    "import pydealer as pd\n",
    "deck = pd.Deck()\n",
    "deck.shuffle()\n",
    "hand = deck.deal(2)\n",
    "print(hand)"
   ]
  },
  {
   "cell_type": "code",
   "execution_count": 3,
   "id": "65d1eba3-f1af-403b-ad3b-e064d9e79d19",
   "metadata": {
    "tags": []
   },
   "outputs": [],
   "source": [
    "#Blackjack Game\n",
    "import pydealer as pd\n",
    "\n",
    "#class blackjack game:\n",
    "    #def __init__(self, hand, \n",
    "deck = pd.Deck()\n",
    "deck.shuffle()\n",
    "hand = []\n",
    "hand = deck.deal(2)\n",
    "hand.sort()\n",
    "\n",
    "def hit_play():\n",
    "    deck.deal(1)\n",
    "    return hand"
   ]
  },
  {
   "cell_type": "code",
   "execution_count": 80,
   "id": "117e13d7-fded-4dce-aaaf-934bc597b891",
   "metadata": {
    "tags": []
   },
   "outputs": [
    {
     "name": "stdout",
     "output_type": "stream",
     "text": [
      "King of Diamonds\n",
      "King of Clubs\n",
      "Dealer has: [19]\n",
      "Enter your play: {1: 'Hit', 2: 'Stay'}\n"
     ]
    },
    {
     "name": "stdin",
     "output_type": "stream",
     "text": [
      " 3\n"
     ]
    },
    {
     "name": "stdout",
     "output_type": "stream",
     "text": [
      "Please enter either a 1 or a 2 next time\n",
      "King of Diamonds\n",
      "King of Clubs\n",
      "20\n",
      "Congratulations! You won the hand!\n"
     ]
    }
   ],
   "source": [
    "## from pydealer import Deck\n",
    "from pydealer import Deck\n",
    "import numpy as np\n",
    "\n",
    "new_ranks = {\n",
    "        \"Ace\": 11,\n",
    "        \"Queen\": 10,\n",
    "        \"King\": 10,\n",
    "        \"Jack\": 10,\n",
    "        \"10\": 10,\n",
    "        \"9\": 9,\n",
    "        \"8\": 8,\n",
    "        \"7\": 7,\n",
    "        \"6\": 6,\n",
    "        \"5\": 5,\n",
    "        \"4\": 4,\n",
    "        \"3\": 3,\n",
    "        \"2\": 2,\n",
    "        \"1\": 1\n",
    "    }\n",
    "\n",
    "deck = Deck()\n",
    "deck.shuffle()\n",
    "hand = deck.deal(2)\n",
    "hand.sort()\n",
    "print(hand)\n",
    "\n",
    "DealerHand = np.random.choice([12,13,14,15,16,17,18,19,20,21],1,p=[0.075, 0.075, 0.075, 0.075, 0.075, 0.075, 0.2, 0.2, 0.075, 0.075])\n",
    "print(\"Dealer has: %s\"%DealerHand)\n",
    "\n",
    "def hit_play():\n",
    "    drawn_card = deck.deal(1)\n",
    "    hand.add(drawn_card[0])\n",
    "    hand.sort()\n",
    "    return hand #and print(hand) #and print(new_value)\n",
    "\n",
    "def stay_play():\n",
    "    return hand and print(hand)    \n",
    "\n",
    "def calculate_hand_value(hand):\n",
    "    new_value = 0\n",
    "    for drawn_card in hand:\n",
    "        rank = drawn_card.value\n",
    "        new_value += new_ranks.get(rank, 0)\n",
    "    return new_value\n",
    "\n",
    "new_value = calculate_hand_value(hand)\n",
    "\n",
    "while new_value <= 21:\n",
    "    if new_value < 21:\n",
    "        choices = {1: \"Hit\", 2: \"Stay\"}\n",
    "        print(\"Enter your play: %s\"%choices)\n",
    "        choice = int(input())\n",
    "        if choice in choices:\n",
    "            if choice == 1:\n",
    "                hit_play()\n",
    "            if choice == 2:\n",
    "                stay_play()\n",
    "                if new_value < 21 and new_value > DealerHand:\n",
    "                    #print(hand)\n",
    "                    print(new_value)\n",
    "                    print(\"Congratulations! You won the hand!\")\n",
    "                    break\n",
    "                #break\n",
    "            new_value = 0\n",
    "            for drawn_card in hand:\n",
    "                rank = drawn_card.value\n",
    "                new_value += new_ranks.get(rank, 0)\n",
    "        if choice not in choices:\n",
    "            print(\"Please enter either a 1 or a 2 next time\")\n",
    "    if new_value == 21:\n",
    "        print(hand)\n",
    "        print(new_value)\n",
    "        print(\"Congratulations! You won the hand!\")\n",
    "    if new_value > 21:\n",
    "        print(hand)\n",
    "        print(new_value)\n",
    "        print(\"Bust, Dealer wins!\")\n",
    "    if new_value < 21 and new_value > DealerHand:\n",
    "        print(hand)\n",
    "        print(new_value)\n",
    "        print(\"Congratulations! You won the hand!\")\n",
    "        break\n",
    "    #else: print(\"You lose!\")\n",
    "    if new_value < 21 and new_value < DealerHand:\n",
    "        #print(hand)\n",
    "        print(new_value)\n",
    "        print(\"Dealer Wins!\")\n",
    "        break\n",
    "new_value = calculate_hand_value(hand)\n",
    "\n"
   ]
  },
  {
   "cell_type": "code",
   "execution_count": null,
   "id": "614a62a6-a462-46c8-99c6-6a7f61462526",
   "metadata": {},
   "outputs": [],
   "source": []
  }
 ],
 "metadata": {
  "kernelspec": {
   "display_name": "Python 3 (ipykernel)",
   "language": "python",
   "name": "python3"
  },
  "language_info": {
   "codemirror_mode": {
    "name": "ipython",
    "version": 3
   },
   "file_extension": ".py",
   "mimetype": "text/x-python",
   "name": "python",
   "nbconvert_exporter": "python",
   "pygments_lexer": "ipython3",
   "version": "3.11.5"
  }
 },
 "nbformat": 4,
 "nbformat_minor": 5
}
