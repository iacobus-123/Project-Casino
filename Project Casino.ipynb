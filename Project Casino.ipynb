{
 "cells": [
  {
   "cell_type": "code",
   "execution_count": 1,
   "id": "a8406f80-1418-4a77-a59f-c5170548bee2",
   "metadata": {
    "tags": []
   },
   "outputs": [
    {
     "name": "stdout",
     "output_type": "stream",
     "text": [
      "Requirement already satisfied: pydealer in c:\\users\\iancu\\anaconda3\\lib\\site-packages (1.4.0)\n",
      "Note: you may need to restart the kernel to use updated packages.\n"
     ]
    }
   ],
   "source": [
    "%pip install pydealer"
   ]
  },
  {
   "cell_type": "code",
   "execution_count": 2,
   "id": "ff0146e5-03aa-426b-95d8-fe8a5fd425f6",
   "metadata": {
    "tags": []
   },
   "outputs": [
    {
     "name": "stdout",
     "output_type": "stream",
     "text": [
      "Jack of Spades\n",
      "2 of Clubs\n"
     ]
    }
   ],
   "source": [
    "import pydealer as pd\n",
    "deck = pd.Deck()\n",
    "deck.shuffle()\n",
    "hand = deck.deal(2)\n",
    "print(hand)"
   ]
  },
  {
   "cell_type": "code",
   "execution_count": 3,
   "id": "65d1eba3-f1af-403b-ad3b-e064d9e79d19",
   "metadata": {
    "tags": []
   },
   "outputs": [],
   "source": [
    "#Blackjack Game\n",
    "import pydealer as pd\n",
    "\n",
    "#class blackjack game:\n",
    "    #def __init__(self, hand, \n",
    "deck = pd.Deck()\n",
    "deck.shuffle()\n",
    "hand = []\n",
    "hand = deck.deal(2)\n",
    "hand.sort()\n",
    "\n",
    "def hit_play():\n",
    "    deck.deal(1)\n",
    "    return hand"
   ]
  },
  {
   "cell_type": "code",
   "execution_count": null,
   "id": "98d8d3e8-d99d-4dbc-9511-a6290cc54f8e",
   "metadata": {
    "tags": []
   },
   "outputs": [
    {
     "name": "stdout",
     "output_type": "stream",
     "text": [
      "4 of Clubs\n",
      "Jack of Hearts\n",
      "Enter your play: {1: 'Hit', 2: 'Stay'}\n"
     ]
    },
    {
     "name": "stdin",
     "output_type": "stream",
     "text": [
      " 1\n"
     ]
    },
    {
     "name": "stdout",
     "output_type": "stream",
     "text": [
      "4 of Clubs\n",
      "5 of Hearts\n",
      "Jack of Hearts\n",
      "14\n",
      "Enter your play: {1: 'Hit', 2: 'Stay'}\n"
     ]
    },
    {
     "name": "stdin",
     "output_type": "stream",
     "text": [
      " 1\n"
     ]
    },
    {
     "name": "stdout",
     "output_type": "stream",
     "text": [
      "4 of Clubs\n",
      "5 of Hearts\n",
      "10 of Hearts\n",
      "Jack of Hearts\n",
      "14\n",
      "Enter your play: {1: 'Hit', 2: 'Stay'}\n"
     ]
    }
   ],
   "source": [
    "from pydealer import Deck\n",
    "\n",
    "new_ranks = {\n",
    "        \"Ace\": 11,\n",
    "        \"Queen\": 10,\n",
    "        \"King\": 10,\n",
    "        \"Jack\": 10,\n",
    "        \"10\": 10,\n",
    "        \"9\": 9,\n",
    "        \"8\": 8,\n",
    "        \"7\": 7,\n",
    "        \"6\": 6,\n",
    "        \"5\": 5,\n",
    "        \"4\": 4,\n",
    "        \"3\": 3,\n",
    "        \"2\": 2,\n",
    "        \"1\": 1\n",
    "    }\n",
    "\n",
    "deck = Deck()\n",
    "deck.shuffle()\n",
    "hand = deck.deal(2)\n",
    "hand.sort()\n",
    "print(hand)\n",
    "\n",
    "def hit_play():\n",
    "    drawn_card = deck.deal(1)\n",
    "    hand.add(drawn_card[0])\n",
    "    hand.sort()\n",
    "    return hand\n",
    "\n",
    "def stay_play():\n",
    "    return hand    \n",
    "\n",
    "def calculate_hand_value(hand):\n",
    "    total_value = 0\n",
    "    for drawn_card in hand:\n",
    "        rank = drawn_card.value\n",
    "        total_value += new_ranks.get(rank, 0)\n",
    "    return total_value\n",
    "\n",
    "total_value = calculate_hand_value(hand)\n",
    "\n",
    "while total_value <= 21:\n",
    "    if total_value < 21:\n",
    "        choices = {1: \"Hit\", 2: \"Stay\"}\n",
    "        print(\"Enter your play: %s\"%choices)\n",
    "        choice = int(input())\n",
    "        if choice in choices:\n",
    "            if choice == 1:\n",
    "                hit_play()\n",
    "            if choice == 2:\n",
    "                stay_play()\n",
    "        print(hand)\n",
    "        print(total_value)\n",
    "    else:\n",
    "        print(\"Please enter either a 1 or a 2\")\n",
    "    if total_value == 21:\n",
    "        print(hand)\n",
    "        print(total_value)\n",
    "        print(\"Congratulations! You won the hand!\")\n",
    "    if total_value > 21:\n",
    "        print(hand)\n",
    "        print(total_value)\n",
    "        print(\"Bust!\")"
   ]
  },
  {
   "cell_type": "code",
   "execution_count": null,
   "id": "faffdaef-9acf-48e3-a24f-52f69ccb86db",
   "metadata": {},
   "outputs": [],
   "source": []
  }
 ],
 "metadata": {
  "kernelspec": {
   "display_name": "Python 3 (ipykernel)",
   "language": "python",
   "name": "python3"
  },
  "language_info": {
   "codemirror_mode": {
    "name": "ipython",
    "version": 3
   },
   "file_extension": ".py",
   "mimetype": "text/x-python",
   "name": "python",
   "nbconvert_exporter": "python",
   "pygments_lexer": "ipython3",
   "version": "3.11.4"
  }
 },
 "nbformat": 4,
 "nbformat_minor": 5
}
