{
 "cells": [
  {
   "cell_type": "code",
   "execution_count": 8,
   "id": "a8406f80-1418-4a77-a59f-c5170548bee2",
   "metadata": {
    "tags": []
   },
   "outputs": [
    {
     "name": "stdout",
     "output_type": "stream",
     "text": [
      "Requirement already satisfied: pydealer in /Users/jacobdietch/anaconda3/lib/python3.11/site-packages (1.4.0)\n",
      "Note: you may need to restart the kernel to use updated packages.\n"
     ]
    }
   ],
   "source": [
    "%pip install pydealer"
   ]
  },
  {
   "cell_type": "code",
   "execution_count": 13,
   "id": "ff0146e5-03aa-426b-95d8-fe8a5fd425f6",
   "metadata": {
    "tags": []
   },
   "outputs": [
    {
     "name": "stdout",
     "output_type": "stream",
     "text": [
      "2 of Diamonds\n",
      "6 of Diamonds\n",
      "10 of Clubs\n",
      "Jack of Spades\n",
      "King of Spades\n",
      "Ace of Diamonds\n",
      "Ace of Spades\n"
     ]
    }
   ],
   "source": [
    "import pydealer\n",
    "deck = pydealer.Deck()\n",
    "deck.shuffle()\n",
    "hand = deck.deal(7)\n",
    "hand.sort()\n",
    "print(hand)"
   ]
  },
  {
   "cell_type": "code",
   "execution_count": null,
   "id": "65d1eba3-f1af-403b-ad3b-e064d9e79d19",
   "metadata": {},
   "outputs": [],
   "source": []
  }
 ],
 "metadata": {
  "kernelspec": {
   "display_name": "Python 3 (ipykernel)",
   "language": "python",
   "name": "python3"
  },
  "language_info": {
   "codemirror_mode": {
    "name": "ipython",
    "version": 3
   },
   "file_extension": ".py",
   "mimetype": "text/x-python",
   "name": "python",
   "nbconvert_exporter": "python",
   "pygments_lexer": "ipython3",
   "version": "3.11.5"
  }
 },
 "nbformat": 4,
 "nbformat_minor": 5
}
